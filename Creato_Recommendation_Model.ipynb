{
  "nbformat": 4,
  "nbformat_minor": 0,
  "metadata": {
    "colab": {
      "provenance": [],
      "authorship_tag": "ABX9TyMKC9LGpmmSNV4kKFOEVh2p",
      "include_colab_link": true
    },
    "kernelspec": {
      "name": "python3",
      "display_name": "Python 3"
    },
    "language_info": {
      "name": "python"
    }
  },
  "cells": [
    {
      "cell_type": "markdown",
      "metadata": {
        "id": "view-in-github",
        "colab_type": "text"
      },
      "source": [
        "<a href=\"https://colab.research.google.com/github/lalitjoshi007/recommend/blob/main/Creato_Recommendation_Model.ipynb\" target=\"_parent\"><img src=\"https://colab.research.google.com/assets/colab-badge.svg\" alt=\"Open In Colab\"/></a>"
      ]
    },
    {
      "cell_type": "markdown",
      "source": [
        "Importing necessary libraries"
      ],
      "metadata": {
        "id": "G3jWHJnLgDle"
      }
    },
    {
      "cell_type": "code",
      "source": [],
      "metadata": {
        "id": "ZYbn9udLO8UK",
        "colab": {
          "base_uri": "https://localhost:8080/"
        },
        "outputId": "0b0d0449-acac-4abd-ca8c-b0ae4578e41d"
      },
      "execution_count": null,
      "outputs": [
        {
          "output_type": "stream",
          "name": "stdout",
          "text": [
            "Cloning into 'Creato_Recommendation'...\n",
            "fatal: could not read Username for 'https://github.com': No such device or address\n"
          ]
        }
      ]
    },
    {
      "cell_type": "code",
      "execution_count": 1,
      "metadata": {
        "colab": {
          "base_uri": "https://localhost:8080/"
        },
        "id": "dU5wWUzZeCTg",
        "outputId": "906447bc-c4e1-4c95-a72a-512862a0827f"
      },
      "outputs": [
        {
          "output_type": "stream",
          "name": "stdout",
          "text": [
            "Name: tensorflow\n",
            "Version: 2.17.0\n",
            "Summary: TensorFlow is an open source machine learning framework for everyone.\n",
            "Home-page: https://www.tensorflow.org/\n",
            "Author: Google Inc.\n",
            "Author-email: packages@tensorflow.org\n",
            "License: Apache 2.0\n",
            "Location: /usr/local/lib/python3.10/dist-packages\n",
            "Requires: absl-py, astunparse, flatbuffers, gast, google-pasta, grpcio, h5py, keras, libclang, ml-dtypes, numpy, opt-einsum, packaging, protobuf, requests, setuptools, six, tensorboard, tensorflow-io-gcs-filesystem, termcolor, typing-extensions, wrapt\n",
            "Required-by: dopamine_rl, tf_keras\n"
          ]
        }
      ],
      "source": [
        "!pip show tensorflow"
      ]
    },
    {
      "cell_type": "code",
      "source": [
        "\n",
        "!pip install tensorflow-recommenders\n"
      ],
      "metadata": {
        "colab": {
          "base_uri": "https://localhost:8080/"
        },
        "id": "NIWUEkWefUhs",
        "outputId": "2d179fba-d5bb-4204-d973-d6d5eb4d506c"
      },
      "execution_count": 2,
      "outputs": [
        {
          "output_type": "stream",
          "name": "stdout",
          "text": [
            "Collecting tensorflow-recommenders\n",
            "  Downloading tensorflow_recommenders-0.7.3-py3-none-any.whl.metadata (4.6 kB)\n",
            "Requirement already satisfied: absl-py>=0.1.6 in /usr/local/lib/python3.10/dist-packages (from tensorflow-recommenders) (1.4.0)\n",
            "Requirement already satisfied: tensorflow>=2.9.0 in /usr/local/lib/python3.10/dist-packages (from tensorflow-recommenders) (2.17.0)\n",
            "Requirement already satisfied: astunparse>=1.6.0 in /usr/local/lib/python3.10/dist-packages (from tensorflow>=2.9.0->tensorflow-recommenders) (1.6.3)\n",
            "Requirement already satisfied: flatbuffers>=24.3.25 in /usr/local/lib/python3.10/dist-packages (from tensorflow>=2.9.0->tensorflow-recommenders) (24.3.25)\n",
            "Requirement already satisfied: gast!=0.5.0,!=0.5.1,!=0.5.2,>=0.2.1 in /usr/local/lib/python3.10/dist-packages (from tensorflow>=2.9.0->tensorflow-recommenders) (0.6.0)\n",
            "Requirement already satisfied: google-pasta>=0.1.1 in /usr/local/lib/python3.10/dist-packages (from tensorflow>=2.9.0->tensorflow-recommenders) (0.2.0)\n",
            "Requirement already satisfied: h5py>=3.10.0 in /usr/local/lib/python3.10/dist-packages (from tensorflow>=2.9.0->tensorflow-recommenders) (3.12.1)\n",
            "Requirement already satisfied: libclang>=13.0.0 in /usr/local/lib/python3.10/dist-packages (from tensorflow>=2.9.0->tensorflow-recommenders) (18.1.1)\n",
            "Requirement already satisfied: ml-dtypes<0.5.0,>=0.3.1 in /usr/local/lib/python3.10/dist-packages (from tensorflow>=2.9.0->tensorflow-recommenders) (0.4.1)\n",
            "Requirement already satisfied: opt-einsum>=2.3.2 in /usr/local/lib/python3.10/dist-packages (from tensorflow>=2.9.0->tensorflow-recommenders) (3.4.0)\n",
            "Requirement already satisfied: packaging in /usr/local/lib/python3.10/dist-packages (from tensorflow>=2.9.0->tensorflow-recommenders) (24.1)\n",
            "Requirement already satisfied: protobuf!=4.21.0,!=4.21.1,!=4.21.2,!=4.21.3,!=4.21.4,!=4.21.5,<5.0.0dev,>=3.20.3 in /usr/local/lib/python3.10/dist-packages (from tensorflow>=2.9.0->tensorflow-recommenders) (3.20.3)\n",
            "Requirement already satisfied: requests<3,>=2.21.0 in /usr/local/lib/python3.10/dist-packages (from tensorflow>=2.9.0->tensorflow-recommenders) (2.32.3)\n",
            "Requirement already satisfied: setuptools in /usr/local/lib/python3.10/dist-packages (from tensorflow>=2.9.0->tensorflow-recommenders) (75.1.0)\n",
            "Requirement already satisfied: six>=1.12.0 in /usr/local/lib/python3.10/dist-packages (from tensorflow>=2.9.0->tensorflow-recommenders) (1.16.0)\n",
            "Requirement already satisfied: termcolor>=1.1.0 in /usr/local/lib/python3.10/dist-packages (from tensorflow>=2.9.0->tensorflow-recommenders) (2.5.0)\n",
            "Requirement already satisfied: typing-extensions>=3.6.6 in /usr/local/lib/python3.10/dist-packages (from tensorflow>=2.9.0->tensorflow-recommenders) (4.12.2)\n",
            "Requirement already satisfied: wrapt>=1.11.0 in /usr/local/lib/python3.10/dist-packages (from tensorflow>=2.9.0->tensorflow-recommenders) (1.16.0)\n",
            "Requirement already satisfied: grpcio<2.0,>=1.24.3 in /usr/local/lib/python3.10/dist-packages (from tensorflow>=2.9.0->tensorflow-recommenders) (1.64.1)\n",
            "Requirement already satisfied: tensorboard<2.18,>=2.17 in /usr/local/lib/python3.10/dist-packages (from tensorflow>=2.9.0->tensorflow-recommenders) (2.17.0)\n",
            "Requirement already satisfied: keras>=3.2.0 in /usr/local/lib/python3.10/dist-packages (from tensorflow>=2.9.0->tensorflow-recommenders) (3.4.1)\n",
            "Requirement already satisfied: tensorflow-io-gcs-filesystem>=0.23.1 in /usr/local/lib/python3.10/dist-packages (from tensorflow>=2.9.0->tensorflow-recommenders) (0.37.1)\n",
            "Requirement already satisfied: numpy<2.0.0,>=1.23.5 in /usr/local/lib/python3.10/dist-packages (from tensorflow>=2.9.0->tensorflow-recommenders) (1.26.4)\n",
            "Requirement already satisfied: wheel<1.0,>=0.23.0 in /usr/local/lib/python3.10/dist-packages (from astunparse>=1.6.0->tensorflow>=2.9.0->tensorflow-recommenders) (0.44.0)\n",
            "Requirement already satisfied: rich in /usr/local/lib/python3.10/dist-packages (from keras>=3.2.0->tensorflow>=2.9.0->tensorflow-recommenders) (13.9.4)\n",
            "Requirement already satisfied: namex in /usr/local/lib/python3.10/dist-packages (from keras>=3.2.0->tensorflow>=2.9.0->tensorflow-recommenders) (0.0.8)\n",
            "Requirement already satisfied: optree in /usr/local/lib/python3.10/dist-packages (from keras>=3.2.0->tensorflow>=2.9.0->tensorflow-recommenders) (0.13.0)\n",
            "Requirement already satisfied: charset-normalizer<4,>=2 in /usr/local/lib/python3.10/dist-packages (from requests<3,>=2.21.0->tensorflow>=2.9.0->tensorflow-recommenders) (3.4.0)\n",
            "Requirement already satisfied: idna<4,>=2.5 in /usr/local/lib/python3.10/dist-packages (from requests<3,>=2.21.0->tensorflow>=2.9.0->tensorflow-recommenders) (3.10)\n",
            "Requirement already satisfied: urllib3<3,>=1.21.1 in /usr/local/lib/python3.10/dist-packages (from requests<3,>=2.21.0->tensorflow>=2.9.0->tensorflow-recommenders) (2.2.3)\n",
            "Requirement already satisfied: certifi>=2017.4.17 in /usr/local/lib/python3.10/dist-packages (from requests<3,>=2.21.0->tensorflow>=2.9.0->tensorflow-recommenders) (2024.8.30)\n",
            "Requirement already satisfied: markdown>=2.6.8 in /usr/local/lib/python3.10/dist-packages (from tensorboard<2.18,>=2.17->tensorflow>=2.9.0->tensorflow-recommenders) (3.7)\n",
            "Requirement already satisfied: tensorboard-data-server<0.8.0,>=0.7.0 in /usr/local/lib/python3.10/dist-packages (from tensorboard<2.18,>=2.17->tensorflow>=2.9.0->tensorflow-recommenders) (0.7.2)\n",
            "Requirement already satisfied: werkzeug>=1.0.1 in /usr/local/lib/python3.10/dist-packages (from tensorboard<2.18,>=2.17->tensorflow>=2.9.0->tensorflow-recommenders) (3.1.2)\n",
            "Requirement already satisfied: MarkupSafe>=2.1.1 in /usr/local/lib/python3.10/dist-packages (from werkzeug>=1.0.1->tensorboard<2.18,>=2.17->tensorflow>=2.9.0->tensorflow-recommenders) (3.0.2)\n",
            "Requirement already satisfied: markdown-it-py>=2.2.0 in /usr/local/lib/python3.10/dist-packages (from rich->keras>=3.2.0->tensorflow>=2.9.0->tensorflow-recommenders) (3.0.0)\n",
            "Requirement already satisfied: pygments<3.0.0,>=2.13.0 in /usr/local/lib/python3.10/dist-packages (from rich->keras>=3.2.0->tensorflow>=2.9.0->tensorflow-recommenders) (2.18.0)\n",
            "Requirement already satisfied: mdurl~=0.1 in /usr/local/lib/python3.10/dist-packages (from markdown-it-py>=2.2.0->rich->keras>=3.2.0->tensorflow>=2.9.0->tensorflow-recommenders) (0.1.2)\n",
            "Downloading tensorflow_recommenders-0.7.3-py3-none-any.whl (96 kB)\n",
            "\u001b[2K   \u001b[90m━━━━━━━━━━━━━━━━━━━━━━━━━━━━━━━━━━━━━━━━\u001b[0m \u001b[32m96.2/96.2 kB\u001b[0m \u001b[31m2.1 MB/s\u001b[0m eta \u001b[36m0:00:00\u001b[0m\n",
            "\u001b[?25hInstalling collected packages: tensorflow-recommenders\n",
            "Successfully installed tensorflow-recommenders-0.7.3\n"
          ]
        }
      ]
    },
    {
      "cell_type": "code",
      "source": [
        "!pip install tensorflow-recommenders scikit-learn scipy"
      ],
      "metadata": {
        "colab": {
          "base_uri": "https://localhost:8080/"
        },
        "id": "4yrpq3pAfaBT",
        "outputId": "a5152c28-3675-4295-d6bc-356647d863c7"
      },
      "execution_count": 3,
      "outputs": [
        {
          "output_type": "stream",
          "name": "stdout",
          "text": [
            "Requirement already satisfied: tensorflow-recommenders in /usr/local/lib/python3.10/dist-packages (0.7.3)\n",
            "Requirement already satisfied: scikit-learn in /usr/local/lib/python3.10/dist-packages (1.5.2)\n",
            "Requirement already satisfied: scipy in /usr/local/lib/python3.10/dist-packages (1.13.1)\n",
            "Requirement already satisfied: absl-py>=0.1.6 in /usr/local/lib/python3.10/dist-packages (from tensorflow-recommenders) (1.4.0)\n",
            "Requirement already satisfied: tensorflow>=2.9.0 in /usr/local/lib/python3.10/dist-packages (from tensorflow-recommenders) (2.17.0)\n",
            "Requirement already satisfied: numpy>=1.19.5 in /usr/local/lib/python3.10/dist-packages (from scikit-learn) (1.26.4)\n",
            "Requirement already satisfied: joblib>=1.2.0 in /usr/local/lib/python3.10/dist-packages (from scikit-learn) (1.4.2)\n",
            "Requirement already satisfied: threadpoolctl>=3.1.0 in /usr/local/lib/python3.10/dist-packages (from scikit-learn) (3.5.0)\n",
            "Requirement already satisfied: astunparse>=1.6.0 in /usr/local/lib/python3.10/dist-packages (from tensorflow>=2.9.0->tensorflow-recommenders) (1.6.3)\n",
            "Requirement already satisfied: flatbuffers>=24.3.25 in /usr/local/lib/python3.10/dist-packages (from tensorflow>=2.9.0->tensorflow-recommenders) (24.3.25)\n",
            "Requirement already satisfied: gast!=0.5.0,!=0.5.1,!=0.5.2,>=0.2.1 in /usr/local/lib/python3.10/dist-packages (from tensorflow>=2.9.0->tensorflow-recommenders) (0.6.0)\n",
            "Requirement already satisfied: google-pasta>=0.1.1 in /usr/local/lib/python3.10/dist-packages (from tensorflow>=2.9.0->tensorflow-recommenders) (0.2.0)\n",
            "Requirement already satisfied: h5py>=3.10.0 in /usr/local/lib/python3.10/dist-packages (from tensorflow>=2.9.0->tensorflow-recommenders) (3.12.1)\n",
            "Requirement already satisfied: libclang>=13.0.0 in /usr/local/lib/python3.10/dist-packages (from tensorflow>=2.9.0->tensorflow-recommenders) (18.1.1)\n",
            "Requirement already satisfied: ml-dtypes<0.5.0,>=0.3.1 in /usr/local/lib/python3.10/dist-packages (from tensorflow>=2.9.0->tensorflow-recommenders) (0.4.1)\n",
            "Requirement already satisfied: opt-einsum>=2.3.2 in /usr/local/lib/python3.10/dist-packages (from tensorflow>=2.9.0->tensorflow-recommenders) (3.4.0)\n",
            "Requirement already satisfied: packaging in /usr/local/lib/python3.10/dist-packages (from tensorflow>=2.9.0->tensorflow-recommenders) (24.1)\n",
            "Requirement already satisfied: protobuf!=4.21.0,!=4.21.1,!=4.21.2,!=4.21.3,!=4.21.4,!=4.21.5,<5.0.0dev,>=3.20.3 in /usr/local/lib/python3.10/dist-packages (from tensorflow>=2.9.0->tensorflow-recommenders) (3.20.3)\n",
            "Requirement already satisfied: requests<3,>=2.21.0 in /usr/local/lib/python3.10/dist-packages (from tensorflow>=2.9.0->tensorflow-recommenders) (2.32.3)\n",
            "Requirement already satisfied: setuptools in /usr/local/lib/python3.10/dist-packages (from tensorflow>=2.9.0->tensorflow-recommenders) (75.1.0)\n",
            "Requirement already satisfied: six>=1.12.0 in /usr/local/lib/python3.10/dist-packages (from tensorflow>=2.9.0->tensorflow-recommenders) (1.16.0)\n",
            "Requirement already satisfied: termcolor>=1.1.0 in /usr/local/lib/python3.10/dist-packages (from tensorflow>=2.9.0->tensorflow-recommenders) (2.5.0)\n",
            "Requirement already satisfied: typing-extensions>=3.6.6 in /usr/local/lib/python3.10/dist-packages (from tensorflow>=2.9.0->tensorflow-recommenders) (4.12.2)\n",
            "Requirement already satisfied: wrapt>=1.11.0 in /usr/local/lib/python3.10/dist-packages (from tensorflow>=2.9.0->tensorflow-recommenders) (1.16.0)\n",
            "Requirement already satisfied: grpcio<2.0,>=1.24.3 in /usr/local/lib/python3.10/dist-packages (from tensorflow>=2.9.0->tensorflow-recommenders) (1.64.1)\n",
            "Requirement already satisfied: tensorboard<2.18,>=2.17 in /usr/local/lib/python3.10/dist-packages (from tensorflow>=2.9.0->tensorflow-recommenders) (2.17.0)\n",
            "Requirement already satisfied: keras>=3.2.0 in /usr/local/lib/python3.10/dist-packages (from tensorflow>=2.9.0->tensorflow-recommenders) (3.4.1)\n",
            "Requirement already satisfied: tensorflow-io-gcs-filesystem>=0.23.1 in /usr/local/lib/python3.10/dist-packages (from tensorflow>=2.9.0->tensorflow-recommenders) (0.37.1)\n",
            "Requirement already satisfied: wheel<1.0,>=0.23.0 in /usr/local/lib/python3.10/dist-packages (from astunparse>=1.6.0->tensorflow>=2.9.0->tensorflow-recommenders) (0.44.0)\n",
            "Requirement already satisfied: rich in /usr/local/lib/python3.10/dist-packages (from keras>=3.2.0->tensorflow>=2.9.0->tensorflow-recommenders) (13.9.4)\n",
            "Requirement already satisfied: namex in /usr/local/lib/python3.10/dist-packages (from keras>=3.2.0->tensorflow>=2.9.0->tensorflow-recommenders) (0.0.8)\n",
            "Requirement already satisfied: optree in /usr/local/lib/python3.10/dist-packages (from keras>=3.2.0->tensorflow>=2.9.0->tensorflow-recommenders) (0.13.0)\n",
            "Requirement already satisfied: charset-normalizer<4,>=2 in /usr/local/lib/python3.10/dist-packages (from requests<3,>=2.21.0->tensorflow>=2.9.0->tensorflow-recommenders) (3.4.0)\n",
            "Requirement already satisfied: idna<4,>=2.5 in /usr/local/lib/python3.10/dist-packages (from requests<3,>=2.21.0->tensorflow>=2.9.0->tensorflow-recommenders) (3.10)\n",
            "Requirement already satisfied: urllib3<3,>=1.21.1 in /usr/local/lib/python3.10/dist-packages (from requests<3,>=2.21.0->tensorflow>=2.9.0->tensorflow-recommenders) (2.2.3)\n",
            "Requirement already satisfied: certifi>=2017.4.17 in /usr/local/lib/python3.10/dist-packages (from requests<3,>=2.21.0->tensorflow>=2.9.0->tensorflow-recommenders) (2024.8.30)\n",
            "Requirement already satisfied: markdown>=2.6.8 in /usr/local/lib/python3.10/dist-packages (from tensorboard<2.18,>=2.17->tensorflow>=2.9.0->tensorflow-recommenders) (3.7)\n",
            "Requirement already satisfied: tensorboard-data-server<0.8.0,>=0.7.0 in /usr/local/lib/python3.10/dist-packages (from tensorboard<2.18,>=2.17->tensorflow>=2.9.0->tensorflow-recommenders) (0.7.2)\n",
            "Requirement already satisfied: werkzeug>=1.0.1 in /usr/local/lib/python3.10/dist-packages (from tensorboard<2.18,>=2.17->tensorflow>=2.9.0->tensorflow-recommenders) (3.1.2)\n",
            "Requirement already satisfied: MarkupSafe>=2.1.1 in /usr/local/lib/python3.10/dist-packages (from werkzeug>=1.0.1->tensorboard<2.18,>=2.17->tensorflow>=2.9.0->tensorflow-recommenders) (3.0.2)\n",
            "Requirement already satisfied: markdown-it-py>=2.2.0 in /usr/local/lib/python3.10/dist-packages (from rich->keras>=3.2.0->tensorflow>=2.9.0->tensorflow-recommenders) (3.0.0)\n",
            "Requirement already satisfied: pygments<3.0.0,>=2.13.0 in /usr/local/lib/python3.10/dist-packages (from rich->keras>=3.2.0->tensorflow>=2.9.0->tensorflow-recommenders) (2.18.0)\n",
            "Requirement already satisfied: mdurl~=0.1 in /usr/local/lib/python3.10/dist-packages (from markdown-it-py>=2.2.0->rich->keras>=3.2.0->tensorflow>=2.9.0->tensorflow-recommenders) (0.1.2)\n"
          ]
        }
      ]
    },
    {
      "cell_type": "code",
      "source": [
        "import tensorflow as tf\n",
        "import tensorflow_recommenders as tfrs\n",
        "import pandas as pd\n",
        "import numpy as np\n",
        "from sklearn.ensemble import GradientBoostingClassifier\n",
        "from sklearn.cluster import KMeans\n",
        "from scipy.stats import beta\n",
        "import difflib\n",
        "from sklearn.feature_extraction.text import TfidfVectorizer\n",
        "from sklearn.metrics.pairwise import cosine_similarity\n",
        "import openpyxl\n",
        "from sklearn.preprocessing import LabelEncoder"
      ],
      "metadata": {
        "id": "Y4s-qwToffdx"
      },
      "execution_count": 45,
      "outputs": []
    },
    {
      "cell_type": "markdown",
      "source": [
        "Data pre processing"
      ],
      "metadata": {
        "id": "gQ0vGITDf-C9"
      }
    },
    {
      "cell_type": "code",
      "source": [
        "Dummy_data=pd.read_csv(\"/content/Tables and Attributes - Dummy_data.csv\")"
      ],
      "metadata": {
        "id": "40b7tkkefnzn"
      },
      "execution_count": 31,
      "outputs": []
    },
    {
      "cell_type": "code",
      "source": [
        "Dummy_data.head()"
      ],
      "metadata": {
        "colab": {
          "base_uri": "https://localhost:8080/",
          "height": 342
        },
        "id": "Gg0ENQCwf8Hv",
        "outputId": "0bc66d61-4fd0-4cb4-eb55-5e27c3e688a9"
      },
      "execution_count": 32,
      "outputs": [
        {
          "output_type": "execute_result",
          "data": {
            "text/plain": [
              "   user_id          name  age  gender  location preferred_content_type  \\\n",
              "0        1  Alex Johnson   25    Male  New York                 Videos   \n",
              "1        2   Priya Singh   30  Female    Mumbai                 Images   \n",
              "2        3   Michael Lee   22    Male    London                  Reels   \n",
              "3        4   Sara Tanaka   29  Female     Tokyo                Stories   \n",
              "4        5   Ahmed Karim   35    Male     Dubai                  Reels   \n",
              "\n",
              "         interests         fav_genres interaction_rate  time_spent_daily  ...  \\\n",
              "0    Travel, Music      Fashion, Tech            Daily               120  ...   \n",
              "1        Food, Art  Food, Photography           Weekly                90  ...   \n",
              "2  Fitness, Travel    Tech, Adventure            Daily               150  ...   \n",
              "3     Fashion, DIY    Fashion, Beauty          Monthly                80  ...   \n",
              "4   Business, Tech     Tech, Business            Daily               110  ...   \n",
              "\n",
              "  share_count active_hours  language_preference device_type engagement_score  \\\n",
              "0           5      Evening              English      Mobile               85   \n",
              "1           3    Afternoon       English, Hindi      Mobile               70   \n",
              "2          10      Morning              English     Desktop               95   \n",
              "3           2      Evening    Japanese, English      Mobile               60   \n",
              "4          15        Night      Arabic, English      Mobile               88   \n",
              "\n",
              "  user_role  comment_sentiment content_visibility  \\\n",
              "0  Consumer           Positive             Public   \n",
              "1  Consumer            Neutral             Public   \n",
              "2   Creator           Positive             Public   \n",
              "3     Brand            Neutral            Private   \n",
              "4     Brand           Positive             Public   \n",
              "\n",
              "                        frequent_captions           frequent_hashtags  \n",
              "0          \"Living the dream\", \"NY vibes\"         #Travel, #MusicLife  \n",
              "1             \"Foodie at heart\", \"Yummy!\"    #Foodie, #HealthyRecipes  \n",
              "2  \"No pain, no gain\", \"Adventure awaits\"     #FitnessGoals, #Explore  \n",
              "3      \"Handmade with love\", \"Tokyo life\"             #DIY, #Handmade  \n",
              "4         \"Hustle mode on\", \"Future tech\"  #Entrepreneur, #TechTrends  \n",
              "\n",
              "[5 rows x 22 columns]"
            ],
            "text/html": [
              "\n",
              "  <div id=\"df-7f9b30f9-ad3b-4d69-a6cf-0a3f4417ddd5\" class=\"colab-df-container\">\n",
              "    <div>\n",
              "<style scoped>\n",
              "    .dataframe tbody tr th:only-of-type {\n",
              "        vertical-align: middle;\n",
              "    }\n",
              "\n",
              "    .dataframe tbody tr th {\n",
              "        vertical-align: top;\n",
              "    }\n",
              "\n",
              "    .dataframe thead th {\n",
              "        text-align: right;\n",
              "    }\n",
              "</style>\n",
              "<table border=\"1\" class=\"dataframe\">\n",
              "  <thead>\n",
              "    <tr style=\"text-align: right;\">\n",
              "      <th></th>\n",
              "      <th>user_id</th>\n",
              "      <th>name</th>\n",
              "      <th>age</th>\n",
              "      <th>gender</th>\n",
              "      <th>location</th>\n",
              "      <th>preferred_content_type</th>\n",
              "      <th>interests</th>\n",
              "      <th>fav_genres</th>\n",
              "      <th>interaction_rate</th>\n",
              "      <th>time_spent_daily</th>\n",
              "      <th>...</th>\n",
              "      <th>share_count</th>\n",
              "      <th>active_hours</th>\n",
              "      <th>language_preference</th>\n",
              "      <th>device_type</th>\n",
              "      <th>engagement_score</th>\n",
              "      <th>user_role</th>\n",
              "      <th>comment_sentiment</th>\n",
              "      <th>content_visibility</th>\n",
              "      <th>frequent_captions</th>\n",
              "      <th>frequent_hashtags</th>\n",
              "    </tr>\n",
              "  </thead>\n",
              "  <tbody>\n",
              "    <tr>\n",
              "      <th>0</th>\n",
              "      <td>1</td>\n",
              "      <td>Alex Johnson</td>\n",
              "      <td>25</td>\n",
              "      <td>Male</td>\n",
              "      <td>New York</td>\n",
              "      <td>Videos</td>\n",
              "      <td>Travel, Music</td>\n",
              "      <td>Fashion, Tech</td>\n",
              "      <td>Daily</td>\n",
              "      <td>120</td>\n",
              "      <td>...</td>\n",
              "      <td>5</td>\n",
              "      <td>Evening</td>\n",
              "      <td>English</td>\n",
              "      <td>Mobile</td>\n",
              "      <td>85</td>\n",
              "      <td>Consumer</td>\n",
              "      <td>Positive</td>\n",
              "      <td>Public</td>\n",
              "      <td>\"Living the dream\", \"NY vibes\"</td>\n",
              "      <td>#Travel, #MusicLife</td>\n",
              "    </tr>\n",
              "    <tr>\n",
              "      <th>1</th>\n",
              "      <td>2</td>\n",
              "      <td>Priya Singh</td>\n",
              "      <td>30</td>\n",
              "      <td>Female</td>\n",
              "      <td>Mumbai</td>\n",
              "      <td>Images</td>\n",
              "      <td>Food, Art</td>\n",
              "      <td>Food, Photography</td>\n",
              "      <td>Weekly</td>\n",
              "      <td>90</td>\n",
              "      <td>...</td>\n",
              "      <td>3</td>\n",
              "      <td>Afternoon</td>\n",
              "      <td>English, Hindi</td>\n",
              "      <td>Mobile</td>\n",
              "      <td>70</td>\n",
              "      <td>Consumer</td>\n",
              "      <td>Neutral</td>\n",
              "      <td>Public</td>\n",
              "      <td>\"Foodie at heart\", \"Yummy!\"</td>\n",
              "      <td>#Foodie, #HealthyRecipes</td>\n",
              "    </tr>\n",
              "    <tr>\n",
              "      <th>2</th>\n",
              "      <td>3</td>\n",
              "      <td>Michael Lee</td>\n",
              "      <td>22</td>\n",
              "      <td>Male</td>\n",
              "      <td>London</td>\n",
              "      <td>Reels</td>\n",
              "      <td>Fitness, Travel</td>\n",
              "      <td>Tech, Adventure</td>\n",
              "      <td>Daily</td>\n",
              "      <td>150</td>\n",
              "      <td>...</td>\n",
              "      <td>10</td>\n",
              "      <td>Morning</td>\n",
              "      <td>English</td>\n",
              "      <td>Desktop</td>\n",
              "      <td>95</td>\n",
              "      <td>Creator</td>\n",
              "      <td>Positive</td>\n",
              "      <td>Public</td>\n",
              "      <td>\"No pain, no gain\", \"Adventure awaits\"</td>\n",
              "      <td>#FitnessGoals, #Explore</td>\n",
              "    </tr>\n",
              "    <tr>\n",
              "      <th>3</th>\n",
              "      <td>4</td>\n",
              "      <td>Sara Tanaka</td>\n",
              "      <td>29</td>\n",
              "      <td>Female</td>\n",
              "      <td>Tokyo</td>\n",
              "      <td>Stories</td>\n",
              "      <td>Fashion, DIY</td>\n",
              "      <td>Fashion, Beauty</td>\n",
              "      <td>Monthly</td>\n",
              "      <td>80</td>\n",
              "      <td>...</td>\n",
              "      <td>2</td>\n",
              "      <td>Evening</td>\n",
              "      <td>Japanese, English</td>\n",
              "      <td>Mobile</td>\n",
              "      <td>60</td>\n",
              "      <td>Brand</td>\n",
              "      <td>Neutral</td>\n",
              "      <td>Private</td>\n",
              "      <td>\"Handmade with love\", \"Tokyo life\"</td>\n",
              "      <td>#DIY, #Handmade</td>\n",
              "    </tr>\n",
              "    <tr>\n",
              "      <th>4</th>\n",
              "      <td>5</td>\n",
              "      <td>Ahmed Karim</td>\n",
              "      <td>35</td>\n",
              "      <td>Male</td>\n",
              "      <td>Dubai</td>\n",
              "      <td>Reels</td>\n",
              "      <td>Business, Tech</td>\n",
              "      <td>Tech, Business</td>\n",
              "      <td>Daily</td>\n",
              "      <td>110</td>\n",
              "      <td>...</td>\n",
              "      <td>15</td>\n",
              "      <td>Night</td>\n",
              "      <td>Arabic, English</td>\n",
              "      <td>Mobile</td>\n",
              "      <td>88</td>\n",
              "      <td>Brand</td>\n",
              "      <td>Positive</td>\n",
              "      <td>Public</td>\n",
              "      <td>\"Hustle mode on\", \"Future tech\"</td>\n",
              "      <td>#Entrepreneur, #TechTrends</td>\n",
              "    </tr>\n",
              "  </tbody>\n",
              "</table>\n",
              "<p>5 rows × 22 columns</p>\n",
              "</div>\n",
              "    <div class=\"colab-df-buttons\">\n",
              "\n",
              "  <div class=\"colab-df-container\">\n",
              "    <button class=\"colab-df-convert\" onclick=\"convertToInteractive('df-7f9b30f9-ad3b-4d69-a6cf-0a3f4417ddd5')\"\n",
              "            title=\"Convert this dataframe to an interactive table.\"\n",
              "            style=\"display:none;\">\n",
              "\n",
              "  <svg xmlns=\"http://www.w3.org/2000/svg\" height=\"24px\" viewBox=\"0 -960 960 960\">\n",
              "    <path d=\"M120-120v-720h720v720H120Zm60-500h600v-160H180v160Zm220 220h160v-160H400v160Zm0 220h160v-160H400v160ZM180-400h160v-160H180v160Zm440 0h160v-160H620v160ZM180-180h160v-160H180v160Zm440 0h160v-160H620v160Z\"/>\n",
              "  </svg>\n",
              "    </button>\n",
              "\n",
              "  <style>\n",
              "    .colab-df-container {\n",
              "      display:flex;\n",
              "      gap: 12px;\n",
              "    }\n",
              "\n",
              "    .colab-df-convert {\n",
              "      background-color: #E8F0FE;\n",
              "      border: none;\n",
              "      border-radius: 50%;\n",
              "      cursor: pointer;\n",
              "      display: none;\n",
              "      fill: #1967D2;\n",
              "      height: 32px;\n",
              "      padding: 0 0 0 0;\n",
              "      width: 32px;\n",
              "    }\n",
              "\n",
              "    .colab-df-convert:hover {\n",
              "      background-color: #E2EBFA;\n",
              "      box-shadow: 0px 1px 2px rgba(60, 64, 67, 0.3), 0px 1px 3px 1px rgba(60, 64, 67, 0.15);\n",
              "      fill: #174EA6;\n",
              "    }\n",
              "\n",
              "    .colab-df-buttons div {\n",
              "      margin-bottom: 4px;\n",
              "    }\n",
              "\n",
              "    [theme=dark] .colab-df-convert {\n",
              "      background-color: #3B4455;\n",
              "      fill: #D2E3FC;\n",
              "    }\n",
              "\n",
              "    [theme=dark] .colab-df-convert:hover {\n",
              "      background-color: #434B5C;\n",
              "      box-shadow: 0px 1px 3px 1px rgba(0, 0, 0, 0.15);\n",
              "      filter: drop-shadow(0px 1px 2px rgba(0, 0, 0, 0.3));\n",
              "      fill: #FFFFFF;\n",
              "    }\n",
              "  </style>\n",
              "\n",
              "    <script>\n",
              "      const buttonEl =\n",
              "        document.querySelector('#df-7f9b30f9-ad3b-4d69-a6cf-0a3f4417ddd5 button.colab-df-convert');\n",
              "      buttonEl.style.display =\n",
              "        google.colab.kernel.accessAllowed ? 'block' : 'none';\n",
              "\n",
              "      async function convertToInteractive(key) {\n",
              "        const element = document.querySelector('#df-7f9b30f9-ad3b-4d69-a6cf-0a3f4417ddd5');\n",
              "        const dataTable =\n",
              "          await google.colab.kernel.invokeFunction('convertToInteractive',\n",
              "                                                    [key], {});\n",
              "        if (!dataTable) return;\n",
              "\n",
              "        const docLinkHtml = 'Like what you see? Visit the ' +\n",
              "          '<a target=\"_blank\" href=https://colab.research.google.com/notebooks/data_table.ipynb>data table notebook</a>'\n",
              "          + ' to learn more about interactive tables.';\n",
              "        element.innerHTML = '';\n",
              "        dataTable['output_type'] = 'display_data';\n",
              "        await google.colab.output.renderOutput(dataTable, element);\n",
              "        const docLink = document.createElement('div');\n",
              "        docLink.innerHTML = docLinkHtml;\n",
              "        element.appendChild(docLink);\n",
              "      }\n",
              "    </script>\n",
              "  </div>\n",
              "\n",
              "\n",
              "<div id=\"df-1c7ee1f6-2d31-4f26-a43b-90c15ca023dd\">\n",
              "  <button class=\"colab-df-quickchart\" onclick=\"quickchart('df-1c7ee1f6-2d31-4f26-a43b-90c15ca023dd')\"\n",
              "            title=\"Suggest charts\"\n",
              "            style=\"display:none;\">\n",
              "\n",
              "<svg xmlns=\"http://www.w3.org/2000/svg\" height=\"24px\"viewBox=\"0 0 24 24\"\n",
              "     width=\"24px\">\n",
              "    <g>\n",
              "        <path d=\"M19 3H5c-1.1 0-2 .9-2 2v14c0 1.1.9 2 2 2h14c1.1 0 2-.9 2-2V5c0-1.1-.9-2-2-2zM9 17H7v-7h2v7zm4 0h-2V7h2v10zm4 0h-2v-4h2v4z\"/>\n",
              "    </g>\n",
              "</svg>\n",
              "  </button>\n",
              "\n",
              "<style>\n",
              "  .colab-df-quickchart {\n",
              "      --bg-color: #E8F0FE;\n",
              "      --fill-color: #1967D2;\n",
              "      --hover-bg-color: #E2EBFA;\n",
              "      --hover-fill-color: #174EA6;\n",
              "      --disabled-fill-color: #AAA;\n",
              "      --disabled-bg-color: #DDD;\n",
              "  }\n",
              "\n",
              "  [theme=dark] .colab-df-quickchart {\n",
              "      --bg-color: #3B4455;\n",
              "      --fill-color: #D2E3FC;\n",
              "      --hover-bg-color: #434B5C;\n",
              "      --hover-fill-color: #FFFFFF;\n",
              "      --disabled-bg-color: #3B4455;\n",
              "      --disabled-fill-color: #666;\n",
              "  }\n",
              "\n",
              "  .colab-df-quickchart {\n",
              "    background-color: var(--bg-color);\n",
              "    border: none;\n",
              "    border-radius: 50%;\n",
              "    cursor: pointer;\n",
              "    display: none;\n",
              "    fill: var(--fill-color);\n",
              "    height: 32px;\n",
              "    padding: 0;\n",
              "    width: 32px;\n",
              "  }\n",
              "\n",
              "  .colab-df-quickchart:hover {\n",
              "    background-color: var(--hover-bg-color);\n",
              "    box-shadow: 0 1px 2px rgba(60, 64, 67, 0.3), 0 1px 3px 1px rgba(60, 64, 67, 0.15);\n",
              "    fill: var(--button-hover-fill-color);\n",
              "  }\n",
              "\n",
              "  .colab-df-quickchart-complete:disabled,\n",
              "  .colab-df-quickchart-complete:disabled:hover {\n",
              "    background-color: var(--disabled-bg-color);\n",
              "    fill: var(--disabled-fill-color);\n",
              "    box-shadow: none;\n",
              "  }\n",
              "\n",
              "  .colab-df-spinner {\n",
              "    border: 2px solid var(--fill-color);\n",
              "    border-color: transparent;\n",
              "    border-bottom-color: var(--fill-color);\n",
              "    animation:\n",
              "      spin 1s steps(1) infinite;\n",
              "  }\n",
              "\n",
              "  @keyframes spin {\n",
              "    0% {\n",
              "      border-color: transparent;\n",
              "      border-bottom-color: var(--fill-color);\n",
              "      border-left-color: var(--fill-color);\n",
              "    }\n",
              "    20% {\n",
              "      border-color: transparent;\n",
              "      border-left-color: var(--fill-color);\n",
              "      border-top-color: var(--fill-color);\n",
              "    }\n",
              "    30% {\n",
              "      border-color: transparent;\n",
              "      border-left-color: var(--fill-color);\n",
              "      border-top-color: var(--fill-color);\n",
              "      border-right-color: var(--fill-color);\n",
              "    }\n",
              "    40% {\n",
              "      border-color: transparent;\n",
              "      border-right-color: var(--fill-color);\n",
              "      border-top-color: var(--fill-color);\n",
              "    }\n",
              "    60% {\n",
              "      border-color: transparent;\n",
              "      border-right-color: var(--fill-color);\n",
              "    }\n",
              "    80% {\n",
              "      border-color: transparent;\n",
              "      border-right-color: var(--fill-color);\n",
              "      border-bottom-color: var(--fill-color);\n",
              "    }\n",
              "    90% {\n",
              "      border-color: transparent;\n",
              "      border-bottom-color: var(--fill-color);\n",
              "    }\n",
              "  }\n",
              "</style>\n",
              "\n",
              "  <script>\n",
              "    async function quickchart(key) {\n",
              "      const quickchartButtonEl =\n",
              "        document.querySelector('#' + key + ' button');\n",
              "      quickchartButtonEl.disabled = true;  // To prevent multiple clicks.\n",
              "      quickchartButtonEl.classList.add('colab-df-spinner');\n",
              "      try {\n",
              "        const charts = await google.colab.kernel.invokeFunction(\n",
              "            'suggestCharts', [key], {});\n",
              "      } catch (error) {\n",
              "        console.error('Error during call to suggestCharts:', error);\n",
              "      }\n",
              "      quickchartButtonEl.classList.remove('colab-df-spinner');\n",
              "      quickchartButtonEl.classList.add('colab-df-quickchart-complete');\n",
              "    }\n",
              "    (() => {\n",
              "      let quickchartButtonEl =\n",
              "        document.querySelector('#df-1c7ee1f6-2d31-4f26-a43b-90c15ca023dd button');\n",
              "      quickchartButtonEl.style.display =\n",
              "        google.colab.kernel.accessAllowed ? 'block' : 'none';\n",
              "    })();\n",
              "  </script>\n",
              "</div>\n",
              "\n",
              "    </div>\n",
              "  </div>\n"
            ],
            "application/vnd.google.colaboratory.intrinsic+json": {
              "type": "dataframe",
              "variable_name": "Dummy_data"
            }
          },
          "metadata": {},
          "execution_count": 32
        }
      ]
    },
    {
      "cell_type": "code",
      "source": [
        "Dummy_data.shape"
      ],
      "metadata": {
        "colab": {
          "base_uri": "https://localhost:8080/"
        },
        "id": "6wmukdxngXzr",
        "outputId": "31c1454b-001f-49aa-fc48-b7f95a82b8e3"
      },
      "execution_count": 33,
      "outputs": [
        {
          "output_type": "execute_result",
          "data": {
            "text/plain": [
              "(20, 22)"
            ]
          },
          "metadata": {},
          "execution_count": 33
        }
      ]
    },
    {
      "cell_type": "code",
      "source": [
        "important_Feature=[\"user_id\",\"name\",\"gender\",\"location\",\"preferred_content_type\",\"interests\",\"fav_genres\",\"interaction_rate\",\"time_spent_daily\",\"content_liked\",\"language_preference\",\"frequent_captions\",\"frequent_hashtags\"]\n",
        "print(important_Feature)"
      ],
      "metadata": {
        "colab": {
          "base_uri": "https://localhost:8080/"
        },
        "id": "NFTo0ggbgu0m",
        "outputId": "96e80272-6ffd-46b8-90e8-998c876ef82b"
      },
      "execution_count": 34,
      "outputs": [
        {
          "output_type": "stream",
          "name": "stdout",
          "text": [
            "['user_id', 'name', 'gender', 'location', 'preferred_content_type', 'interests', 'fav_genres', 'interaction_rate', 'time_spent_daily', 'content_liked', 'language_preference', 'frequent_captions', 'frequent_hashtags']\n"
          ]
        }
      ]
    },
    {
      "cell_type": "code",
      "source": [
        "#replaceing null values\n",
        "for feature in important_Feature:\n",
        "  Dummy_data[feature]=Dummy_data[feature].fillna(\"\")"
      ],
      "metadata": {
        "id": "YEK68c9djUIx"
      },
      "execution_count": 35,
      "outputs": []
    },
    {
      "cell_type": "code",
      "source": [
        "combined_features = (\n",
        "    Dummy_data[\"user_id\"].astype(str) +[\" \"]+\n",
        "    Dummy_data[\"location\"].astype(str) +[\" \"]+\n",
        "    Dummy_data[\"preferred_content_type\"].astype(str) +[\" \"]+\n",
        "    Dummy_data[\"interests\"].astype(str) +[\" \"]+\n",
        "    Dummy_data[\"fav_genres\"].astype(str) +[\" \"]+\n",
        "    Dummy_data[\"language_preference\"].astype(str) +[\" \"]+\n",
        "    Dummy_data[\"interests\"].astype(str) +[\" \"]+\n",
        "    Dummy_data[\"language_preference\"].astype(str)+[\" \"]+\n",
        "    Dummy_data[\"frequent_captions\"].astype(str)+[\" \"]+\n",
        "    Dummy_data[\"frequent_hashtags\"].astype(str)\n",
        ")"
      ],
      "metadata": {
        "id": "KWgzOPd_kZUg"
      },
      "execution_count": 36,
      "outputs": []
    },
    {
      "cell_type": "code",
      "source": [
        "print(combined_features)"
      ],
      "metadata": {
        "colab": {
          "base_uri": "https://localhost:8080/"
        },
        "id": "-A1PUvr0mkqE",
        "outputId": "e1b5467d-d3ca-4475-c589-35d4f48b3ca6"
      },
      "execution_count": 37,
      "outputs": [
        {
          "output_type": "stream",
          "name": "stdout",
          "text": [
            "0     1 New York Videos Travel, Music Fashion, Tech ...\n",
            "1     2 Mumbai Images Food, Art Food, Photography En...\n",
            "2     3 London Reels Fitness, Travel Tech, Adventure...\n",
            "3     4 Tokyo Stories Fashion, DIY Fashion, Beauty J...\n",
            "4     5 Dubai Reels Business, Tech Tech, Business Ar...\n",
            "5     6 Beijing Videos Beauty, Travel Travel, Beauty...\n",
            "6     7 Mexico City Images Photography Adventure, Fo...\n",
            "7     8 Islamabad Stories Fitness, Fashion Fashion, ...\n",
            "8     9 Kyoto Videos Gaming, Travel Gaming, Adventur...\n",
            "9     10 Berlin Reels DIY, Cooking Cooking, Fashion ...\n",
            "10    11 New Delhi Stories Tech, Sports Tech, Fitnes...\n",
            "11    12 Los Angeles Videos Music, Dance Music, Life...\n",
            "12    13 Cairo Images Art, Photography Photography, ...\n",
            "13    14 Barcelona Reels Travel, Music Adventure, Fo...\n",
            "14    15 Mumbai Stories Fitness, Tech Fitness, Busin...\n",
            "15    16 Rome Images Cooking, Fashion Cooking, Lifes...\n",
            "16    17 Bengaluru Videos Tech, Finance Tech, Busine...\n",
            "17    18 Paris Stories Fashion, Travel Fashion, Art ...\n",
            "18    19 Lagos Reels Sports, Business Business, Spor...\n",
            "19    20 Osaka Videos Beauty, Art Beauty, Lifestyle ...\n",
            "dtype: object\n"
          ]
        }
      ]
    },
    {
      "cell_type": "code",
      "source": [
        "vectorizer=TfidfVectorizer()"
      ],
      "metadata": {
        "id": "jAzQjHlzmplU"
      },
      "execution_count": 38,
      "outputs": []
    },
    {
      "cell_type": "code",
      "source": [
        "features_vectors=vectorizer.fit_transform(combined_features)"
      ],
      "metadata": {
        "id": "fAio06uEnXNa"
      },
      "execution_count": 39,
      "outputs": []
    },
    {
      "cell_type": "code",
      "source": [
        "print(features_vectors)"
      ],
      "metadata": {
        "colab": {
          "base_uri": "https://localhost:8080/"
        },
        "id": "_Nkn_hUEnc3i",
        "outputId": "03a959bc-2823-4e73-a0f1-c76221befc22"
      },
      "execution_count": 40,
      "outputs": [
        {
          "output_type": "stream",
          "name": "stdout",
          "text": [
            "  (0, 115)\t0.22970263123486656\n",
            "  (0, 159)\t0.2613181244080856\n",
            "  (0, 154)\t0.16363593601233048\n",
            "  (0, 145)\t0.4909078080369914\n",
            "  (0, 110)\t0.4145421636936456\n",
            "  (0, 55)\t0.16363593601233048\n",
            "  (0, 138)\t0.16363593601233048\n",
            "  (0, 50)\t0.19835399344859436\n",
            "  (0, 103)\t0.22970263123486656\n",
            "  (0, 141)\t0.22970263123486656\n",
            "  (0, 45)\t0.2613181244080856\n",
            "  (0, 118)\t0.2613181244080856\n",
            "  (0, 153)\t0.1898718204007793\n",
            "  (0, 111)\t0.2613181244080856\n",
            "  (1, 50)\t0.167365240483938\n",
            "  (1, 109)\t0.19381629503910147\n",
            "  (1, 86)\t0.16020823342150212\n",
            "  (1, 62)\t0.5246676488162026\n",
            "  (1, 16)\t0.32041646684300423\n",
            "  (1, 125)\t0.17488921627206755\n",
            "  (1, 82)\t0.3497784325441351\n",
            "  (1, 63)\t0.4409850285742336\n",
            "  (1, 18)\t0.19381629503910147\n",
            "  (1, 81)\t0.2204925142871168\n",
            "  (1, 161)\t0.2204925142871168\n",
            "  :\t:\n",
            "  (18, 127)\t0.14843994794561408\n",
            "  (18, 29)\t0.4813606560905176\n",
            "  (18, 113)\t0.1941130759399404\n",
            "  (18, 131)\t0.5823392278198212\n",
            "  (18, 9)\t0.22083014310725893\n",
            "  (18, 96)\t0.22083014310725893\n",
            "  (18, 137)\t0.22083014310725893\n",
            "  (18, 41)\t0.22083014310725893\n",
            "  (18, 155)\t0.22083014310725893\n",
            "  (18, 122)\t0.22083014310725893\n",
            "  (18, 114)\t0.22083014310725893\n",
            "  (19, 154)\t0.14300700297377208\n",
            "  (19, 16)\t0.33187086707706676\n",
            "  (19, 21)\t0.49780630061560016\n",
            "  (19, 92)\t0.3622824782914676\n",
            "  (19, 102)\t0.1811412391457338\n",
            "  (19, 132)\t0.20074493212549935\n",
            "  (19, 10)\t0.2283747855453442\n",
            "  (19, 121)\t0.2283747855453442\n",
            "  (19, 98)\t0.2283747855453442\n",
            "  (19, 52)\t0.2283747855453442\n",
            "  (19, 40)\t0.2283747855453442\n",
            "  (19, 37)\t0.2283747855453442\n",
            "  (19, 77)\t0.2283747855453442\n",
            "  (19, 93)\t0.2283747855453442\n"
          ]
        }
      ]
    },
    {
      "cell_type": "code",
      "source": [
        "# Create user profile features (e.g., location, language, interaction rate)\n",
        "user_features = Dummy_data[[\"location\", \"language_preference\", \"interaction_rate\", \"time_spent_daily\"]]\n",
        "combined_user_features = (\n",
        "    Dummy_data[\"location\"].astype(str) + \" \" +\n",
        "    Dummy_data[\"language_preference\"].astype(str)\n",
        ")\n",
        "\n",
        "# TF-IDF Vectorization for user profile\n",
        "user_vectorizer = TfidfVectorizer(stop_words=\"english\")\n",
        "user_feature_vectors = user_vectorizer.fit_transform(combined_user_features)\n"
      ],
      "metadata": {
        "id": "oQxLSZuY35lE"
      },
      "execution_count": 50,
      "outputs": []
    },
    {
      "cell_type": "code",
      "source": [
        "Dummy_data['user_id'] = Dummy_data['user_id'].astype(str)\n",
        "Dummy_data['reel_id'] = Dummy_data['user_id'] + \"_reel\"\n"
      ],
      "metadata": {
        "id": "TSu3hPnVniip"
      },
      "execution_count": 41,
      "outputs": []
    },
    {
      "cell_type": "markdown",
      "source": [
        "Content based Recommendation"
      ],
      "metadata": {
        "id": "mfp5qYGQmVsW"
      }
    },
    {
      "cell_type": "code",
      "source": [
        "#  Define the important features for content filtering\n",
        "content_features = [\n",
        "    \"preferred_content_type\", \"fav_genres\", \"language_preference\",\n",
        "    \"frequent_captions\", \"frequent_hashtags\"\n",
        "]\n",
        "\n",
        "# Replace null values for content-related features as well\n",
        "for feature in content_features:\n",
        "    Dummy_data[feature] = Dummy_data[feature].fillna(\"\")\n",
        "\n",
        "#  Create a combined content profile for each reel based on content features\n",
        "combined_content_features = (\n",
        "    Dummy_data[\"preferred_content_type\"].astype(str) + \" \" +\n",
        "    Dummy_data[\"fav_genres\"].astype(str) + \" \" +\n",
        "    Dummy_data[\"language_preference\"].astype(str) + \" \" +\n",
        "    Dummy_data[\"frequent_captions\"].astype(str) + \" \" +\n",
        "    Dummy_data[\"frequent_hashtags\"].astype(str)\n",
        ")\n",
        "\n",
        "#  Create the content-based feature vectors\n",
        "content_vectorizer = TfidfVectorizer()\n",
        "content_feature_vectors = content_vectorizer.fit_transform(combined_content_features)\n",
        "\n",
        "# Calculate content-based similarity matrix (content filtering)\n",
        "content_similarity_matrix = cosine_similarity(content_feature_vectors)\n",
        "\n",
        "\n",
        "\n",
        "\n",
        "\n",
        "\n"
      ],
      "metadata": {
        "id": "agmdB-cAmQte"
      },
      "execution_count": 42,
      "outputs": []
    },
    {
      "cell_type": "markdown",
      "source": [
        "Collaborative Filtering using cosine similarity\n"
      ],
      "metadata": {
        "id": "Cb7aXrxPfy3K"
      }
    },
    {
      "cell_type": "code",
      "source": [
        "# Calculate cosine similarity\n",
        "similarity_matrix = cosine_similarity(features_vectors)\n",
        "\n",
        "def recommend_reels(user_id, n_recommendations=5, content_weight=0.5):\n",
        "    user_index = Dummy_data[Dummy_data['user_id'] == str(user_id)].index[0]        # Find the index of the user in the similarity matrix\n",
        "    similar_users = similarity_matrix[user_index]          # Get the similarity scores of other users to this user\n",
        "    similar_users = sorted(enumerate(similar_users), key=lambda x: x[1], reverse=True)[1:]        # Sort users based on similarity scores\n",
        "    top_n_similar_users = similar_users[:n_recommendations]         # Get the top N similar users\n",
        "    recommended_reels_collab = []         # Get the reels liked by these similar users\n",
        "    for user_index, similarity_score in top_n_similar_users:\n",
        "        user_reels = Dummy_data[Dummy_data['user_id'] == Dummy_data.iloc[user_index]['user_id']]['reel_id'].tolist()\n",
        "        recommended_reels_collab.extend(user_reels)\n",
        "    recommended_reels_collab = list(set(recommended_reels_collab))[:5] # Remove duplicates and return the top N recommendations\n",
        "    user_reels = Dummy_data[Dummy_data['user_id']==str(user_id)]['reel_id'].tolist()\n",
        "    similar_content_scores = []\n",
        "    for reel_id in user_reels:\n",
        "      reel_index = Dummy_data[Dummy_data['reel_id'] == reel_id].index[0]\n",
        "      content_similarities = content_similarity_matrix[reel_index]\n",
        "      similar_content_scores.extend(list(enumerate(content_similarities)))\n",
        "\n",
        "    similar_content_scores = sorted(similar_content_scores, key=lambda x: x[1], reverse=True)\n",
        "    top_content_recommendations = [Dummy_data.iloc[reel_index]['reel_id'] for reel_index, _ in similar_content_scores[:n_recommendations]]\n",
        "\n",
        "\n",
        "    combined_recommendations = list(set(recommended_reels_collab +top_content_recommendations))[:n_recommendations]\n",
        "\n",
        "\n",
        "    return combined_recommendations\n"
      ],
      "metadata": {
        "id": "JSqMpYruEsgr"
      },
      "execution_count": 43,
      "outputs": []
    },
    {
      "cell_type": "code",
      "source": [
        "\n",
        "# Create LabelEncoders for the relevant columns\n",
        "sentiment_encoder = LabelEncoder()\n",
        "rate_encoder = LabelEncoder()\n",
        "\n",
        "Dummy_data['comment_sentiment_encoded'] = sentiment_encoder.fit_transform(Dummy_data['comment_sentiment'])\n",
        "Dummy_data['interaction_rate_encoded'] = rate_encoder.fit_transform(Dummy_data['interaction_rate'])\n",
        "\n",
        "# Update interaction_data and target to use the encoded columns\n",
        "interaction_data = Dummy_data[[ \"share_count\", \"time_spent_daily\", \"comment_sentiment_encoded\"]]\n",
        "target = Dummy_data[\"interaction_rate_encoded\"]\n",
        "\n",
        "# Fit the GBDT model\n",
        "gbdt_model = GradientBoostingClassifier()\n",
        "gbdt_model.fit(interaction_data, target)\n",
        "\n",
        "# Predict interaction probability for each video\n",
        "interaction_predictions = gbdt_model.predict_proba(interaction_data)[:, 1]\n"
      ],
      "metadata": {
        "id": "OgFPaOOiypIB"
      },
      "execution_count": 48,
      "outputs": []
    },
    {
      "cell_type": "code",
      "source": [
        "def rank_reels_with_gbdt(reels, interaction_predictions):\n",
        "    \"\"\"Ranks reels based on predicted interaction probabilities using the GBDT model.\"\"\"\n",
        "    reel_interaction_scores = {reel_id: interaction_predictions[Dummy_data[Dummy_data['reel_id'] == reel_id].index[0]] for reel_id in reels}\n",
        "    ranked_reels = sorted(reel_interaction_scores, key=reel_interaction_scores.get, reverse=True)\n",
        "    return ranked_reels"
      ],
      "metadata": {
        "id": "Pzf31kSd6e3R"
      },
      "execution_count": 56,
      "outputs": []
    },
    {
      "cell_type": "code",
      "source": [
        "from sklearn.cluster import KMeans\n",
        "\n",
        "# Cluster users based on their interaction features\n",
        "kmeans = KMeans(n_clusters=5)  # Number of clusters can be adjusted\n",
        "user_clusters = kmeans.fit_predict(user_feature_vectors)\n",
        "\n",
        "# Assign users to clusters and refine recommendations based on their cluster\n",
        "Dummy_data['user_cluster'] = user_clusters\n"
      ],
      "metadata": {
        "id": "t3CHWiZLypPM"
      },
      "execution_count": 51,
      "outputs": []
    },
    {
      "cell_type": "code",
      "source": [
        "import random\n",
        "\n",
        "def diversify_recommendations(recommended_reels):\n",
        "    # Introduce randomness to explore different content\n",
        "    if random.random() < 0.2:  # 20% chance to introduce diversity\n",
        "        # Pick some random reels that are not in the user's history\n",
        "        new_reels = Dummy_data[~Dummy_data['reel_id'].isin(recommended_reels)]['reel_id'].sample(3).tolist()\n",
        "        recommended_reels.extend(new_reels)\n",
        "    return list(set(recommended_reels))[:5]\n"
      ],
      "metadata": {
        "id": "6dm03kVn4G6y"
      },
      "execution_count": 52,
      "outputs": []
    },
    {
      "cell_type": "code",
      "source": [
        "def recommend_reels(user_id, n_recommendations=5, content_weight=0.5):\n",
        "    # Collaborative filtering part\n",
        "    user_index = Dummy_data[Dummy_data['user_id'] == str(user_id)].index[0]\n",
        "    similar_users = similarity_matrix[user_index]\n",
        "    similar_users = sorted(enumerate(similar_users), key=lambda x: x[1], reverse=True)[1:]\n",
        "    top_n_similar_users = similar_users[:n_recommendations]\n",
        "\n",
        "    recommended_reels_collab = []\n",
        "    for user_index, similarity_score in top_n_similar_users:\n",
        "        user_reels = Dummy_data[Dummy_data['user_id'] == Dummy_data.iloc[user_index]['user_id']]['reel_id'].tolist()\n",
        "        recommended_reels_collab.extend(user_reels)\n",
        "\n",
        "    # Content-based filtering part\n",
        "    user_reels = Dummy_data[Dummy_data['user_id'] == str(user_id)]['reel_id'].tolist()\n",
        "    similar_content_scores = []\n",
        "    for reel_id in user_reels:\n",
        "        reel_index = Dummy_data[Dummy_data['reel_id'] == reel_id].index[0]\n",
        "        content_similarities = content_similarity_matrix[reel_index]\n",
        "        similar_content_scores.extend(list(enumerate(content_similarities)))\n",
        "\n",
        "    similar_content_scores = sorted(similar_content_scores, key=lambda x: x[1], reverse=True)\n",
        "    top_content_recommendations = [Dummy_data.iloc[reel_index]['reel_id'] for reel_index, _ in similar_content_scores[:n_recommendations]]\n",
        "\n",
        "    # Combine both recommendations and rank them\n",
        "    combined_recommendations = list(set(recommended_reels_collab + top_content_recommendations))[:n_recommendations]\n",
        "\n",
        "    # Rank using GBDT model\n",
        "    ranked_reels = rank_reels_with_gbdt(combined_recommendations, interaction_predictions)\n",
        "\n",
        "    # Introduce exploration\n",
        "    diversified_reels = diversify_recommendations(ranked_reels)\n",
        "\n",
        "    return diversified_reels\n"
      ],
      "metadata": {
        "id": "mOpxblUV5Qgk"
      },
      "execution_count": 53,
      "outputs": []
    },
    {
      "cell_type": "code",
      "source": [
        "\n",
        "user_id = int(input(\"Enter the user id: \"))\n",
        "recommend = recommend_reels(user_id)\n",
        "print(\"The recommended reels for user ID {} are:\".format(user_id))\n",
        "print(recommend)\n",
        "\n",
        "\n",
        "for reel_id in recommend:\n",
        "    reel_info = Dummy_data[Dummy_data['reel_id'] == reel_id]\n",
        "    print(reel_info[['reel_id', 'frequent_captions', 'frequent_hashtags', 'time_spent_daily']])\n"
      ],
      "metadata": {
        "colab": {
          "base_uri": "https://localhost:8080/"
        },
        "id": "4JEJ-fl2G6s9",
        "outputId": "dc3e57c9-3809-439c-8aa1-d9c392d59a1c"
      },
      "execution_count": 59,
      "outputs": [
        {
          "output_type": "stream",
          "name": "stdout",
          "text": [
            "Enter the user id: 1\n",
            "The recommended reels for user ID 1 are:\n",
            "['9_reel', '1_reel', '12_reel', '17_reel', '18_reel']\n",
            "  reel_id           frequent_captions     frequent_hashtags  time_spent_daily\n",
            "8  9_reel  \"Game on!\", \"Travel vibes\"  #Gamer, #TravelJapan                70\n",
            "  reel_id               frequent_captions    frequent_hashtags  \\\n",
            "0  1_reel  \"Living the dream\", \"NY vibes\"  #Travel, #MusicLife   \n",
            "\n",
            "   time_spent_daily  \n",
            "0               120  \n",
            "    reel_id                  frequent_captions     frequent_hashtags  \\\n",
            "11  12_reel  \"Dance till you drop\", \"LA vibes\"  #DanceLife, #LAStyle   \n",
            "\n",
            "    time_spent_daily  \n",
            "11               125  \n",
            "    reel_id                      frequent_captions    frequent_hashtags  \\\n",
            "16  17_reel  \"Living my best life\", \"Dreaming big\"  #Inspo, #LifeIsGood   \n",
            "\n",
            "    time_spent_daily  \n",
            "16               115  \n",
            "    reel_id             frequent_captions           frequent_hashtags  \\\n",
            "17  18_reel  \"Weekend vibes\", \"City life\"  #UrbanAdventure, #CityLove   \n",
            "\n",
            "    time_spent_daily  \n",
            "17               140  \n"
          ]
        }
      ]
    }
  ]
}